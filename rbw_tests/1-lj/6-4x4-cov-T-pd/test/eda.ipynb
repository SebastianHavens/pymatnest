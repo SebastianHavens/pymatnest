{
 "cells": [
  {
   "cell_type": "code",
   "execution_count": 1,
   "metadata": {
    "collapsed": true
   },
   "outputs": [],
   "source": [
    "import os\n",
    "import matplotlib.pyplot as plt\n",
    "import numpy as np\n",
    "import pandas as pd"
   ]
  },
  {
   "cell_type": "code",
   "execution_count": 2,
   "outputs": [],
   "source": [
    "M = 1\n",
    "n = 200\n",
    "D = 10\n",
    "PREFIX = \"/Users/robertwexler/PycharmProjects/pymatnest/ns_analyse \"\n",
    "SUFFIX = \" -M {} -n {} -D {}\".format(M, n, D)"
   ],
   "metadata": {
    "collapsed": false,
    "pycharm": {
     "name": "#%%\n"
    }
   }
  },
  {
   "cell_type": "code",
   "execution_count": 3,
   "outputs": [
    {
     "name": "stderr",
     "output_type": "stream",
     "text": [
      "Using mpi 0/1\n",
      ".........1.........2\n"
     ]
    }
   ],
   "source": [
    "outp = os.popen(PREFIX + \"output.energies\" + SUFFIX).read().split(\"\\n\")[2:-1]\n",
    "outa = np.array([x.split() for x in outp]).astype(float)\n",
    "df = pd.DataFrame(outa, columns=[\n",
    "    \"T\", \"log_Z\", \"F\", \"U\", \"Cvp\", \"low_pct_i\", \"mode_i\", \"high_pct_i\",\n",
    "    \"low_pct_iter\", \"mode_iter\", \"high_pct_iter\", \"Z_fract\", \"V\",\n",
    "    \"thermal_exp\"])"
   ],
   "metadata": {
    "collapsed": false,
    "pycharm": {
     "name": "#%%\n"
    }
   }
  },
  {
   "cell_type": "code",
   "execution_count": 16,
   "outputs": [
    {
     "name": "stdout",
     "output_type": "stream",
     "text": [
      "-39.4586\n",
      "-34.6206\n"
     ]
    },
    {
     "data": {
      "text/plain": "<Figure size 432x288 with 2 Axes>",
      "image/png": "[encoded data removed]"
     },
     "metadata": {
      "needs_background": "light"
     },
     "output_type": "display_data"
    }
   ],
   "source": [
    "fig, axs = plt.subplots(nrows=2)\n",
    "axs[0].plot(df[\"T\"], df[\"U\"])\n",
    "axs[1].plot(df[\"T\"], df[\"Cvp\"])\n",
    "axs[0].axvline(751)\n",
    "axs[1].axvline(751)\n",
    "axs[0].axvline(1251)\n",
    "axs[1].axvline(1251)\n",
    "U_751 = df.loc[df[\"T\"] == 751, \"U\"].values[0]\n",
    "U_1251 = df.loc[df[\"T\"] == 1251, \"U\"].values[0]\n",
    "axs[0].axhline(U_751)\n",
    "axs[0].axhline(U_1251)\n",
    "print(U_751)\n",
    "print(U_1251)\n",
    "plt.show()"
   ],
   "metadata": {
    "collapsed": false,
    "pycharm": {
     "name": "#%%\n"
    }
   }
  },
  {
   "cell_type": "code",
   "execution_count": null,
   "outputs": [],
   "source": [],
   "metadata": {
    "collapsed": false,
    "pycharm": {
     "name": "#%%\n"
    }
   }
  }
 ],
 "metadata": {
  "kernelspec": {
   "display_name": "Python 3",
   "language": "python",
   "name": "python3"
  },
  "language_info": {
   "codemirror_mode": {
    "name": "ipython",
    "version": 2
   },
   "file_extension": ".py",
   "mimetype": "text/x-python",
   "name": "python",
   "nbconvert_exporter": "python",
   "pygments_lexer": "ipython2",
   "version": "2.7.6"
  }
 },
 "nbformat": 4,
 "nbformat_minor": 0
}